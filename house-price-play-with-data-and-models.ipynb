{
 "cells": [
  {
   "cell_type": "markdown",
   "metadata": {
    "papermill": {
     "duration": 0.016752,
     "end_time": "2020-10-05T08:38:01.593172",
     "exception": false,
     "start_time": "2020-10-05T08:38:01.576420",
     "status": "completed"
    },
    "tags": []
   },
   "source": [
    "This is my second Kaggle Competition I have learned a lot from the First which was \"Titanic\" I would suggest the beginners to go through Intro. and Intermediate ML course and apply those things in the Titanic Competition before doing this one.\n",
    "\n",
    "In this Competition I try to make things more clear, precise and organise and perform better feature engineering than the Titanic Competition.\n",
    "\n",
    "- Various libraries and use of scikit-learn"
   ]
  },
  {
   "cell_type": "code",
   "execution_count": 1,
   "metadata": {
    "_cell_guid": "b1076dfc-b9ad-4769-8c92-a6c4dae69d19",
    "_uuid": "8f2839f25d086af736a60e9eeb907d3b93b6e0e5",
    "execution": {
     "iopub.execute_input": "2020-10-05T08:38:01.628144Z",
     "iopub.status.busy": "2020-10-05T08:38:01.627470Z",
     "iopub.status.idle": "2020-10-05T08:38:01.635897Z",
     "shell.execute_reply": "2020-10-05T08:38:01.636543Z"
    },
    "papermill": {
     "duration": 0.027654,
     "end_time": "2020-10-05T08:38:01.636749",
     "exception": false,
     "start_time": "2020-10-05T08:38:01.609095",
     "status": "completed"
    },
    "tags": []
   },
   "outputs": [
    {
     "name": "stdout",
     "output_type": "stream",
     "text": [
      "/kaggle/input/house-prices-advanced-regression-techniques/sample_submission.csv\n",
      "/kaggle/input/house-prices-advanced-regression-techniques/data_description.txt\n",
      "/kaggle/input/house-prices-advanced-regression-techniques/test.csv\n",
      "/kaggle/input/house-prices-advanced-regression-techniques/train.csv\n"
     ]
    }
   ],
   "source": [
    "# This Python 3 environment comes with many helpful analytics libraries installed\n",
    "# It is defined by the kaggle/python Docker image: https://github.com/kaggle/docker-python\n",
    "# For example, here's several helpful packages to load\n",
    "\n",
    "import numpy as np # linear algebra\n",
    "import pandas as pd # data processing, CSV file I/O (e.g. pd.read_csv)\n",
    "\n",
    "# Input data files are available in the read-only \"../input/\" directory\n",
    "# For example, running this (by clicking run or pressing Shift+Enter) will list all files under the input directory\n",
    "\n",
    "import os\n",
    "for dirname, _, filenames in os.walk('/kaggle/input'):\n",
    "    for filename in filenames:\n",
    "        print(os.path.join(dirname, filename))\n",
    "\n",
    "# You can write up to 5GB to the current directory (/kaggle/working/) that gets preserved as output when you create a version using \"Save & Run All\" \n",
    "# You can also write temporary files to /kaggle/temp/, but they won't be saved outside of the current session"
   ]
  },
  {
   "cell_type": "markdown",
   "metadata": {
    "_cell_guid": "79c7e3d0-c299-4dcb-8224-4455121ee9b0",
    "_uuid": "d629ff2d2480ee46fbb7e2d37f6b5fab8052498a",
    "collapsed": true,
    "papermill": {
     "duration": 0.015693,
     "end_time": "2020-10-05T08:38:01.669466",
     "exception": false,
     "start_time": "2020-10-05T08:38:01.653773",
     "status": "completed"
    },
    "tags": []
   },
   "source": [
    "### Libraries and use of scikit-learn"
   ]
  },
  {
   "cell_type": "code",
   "execution_count": 2,
   "metadata": {
    "execution": {
     "iopub.execute_input": "2020-10-05T08:38:01.706579Z",
     "iopub.status.busy": "2020-10-05T08:38:01.705905Z",
     "iopub.status.idle": "2020-10-05T08:38:03.926333Z",
     "shell.execute_reply": "2020-10-05T08:38:03.926928Z"
    },
    "papermill": {
     "duration": 2.241444,
     "end_time": "2020-10-05T08:38:03.927089",
     "exception": false,
     "start_time": "2020-10-05T08:38:01.685645",
     "status": "completed"
    },
    "tags": []
   },
   "outputs": [],
   "source": [
    "import pandas as pd\n",
    "import numpy as np\n",
    "from sklearn.impute import SimpleImputer\n",
    "from sklearn.preprocessing import LabelEncoder\n",
    "from sklearn.preprocessing import OneHotEncoder\n",
    "import category_encoders as ce\n",
    "from sklearn.ensemble import RandomForestRegressor\n",
    "from sklearn.metrics import mean_absolute_error\n",
    "from xgboost import XGBRegressor\n",
    "from sklearn.model_selection import train_test_split\n",
    "import itertools\n",
    "from sklearn.metrics import mean_squared_error\n",
    "import category_encoders "
   ]
  },
  {
   "cell_type": "markdown",
   "metadata": {
    "papermill": {
     "duration": 0.015726,
     "end_time": "2020-10-05T08:38:03.959303",
     "exception": false,
     "start_time": "2020-10-05T08:38:03.943577",
     "status": "completed"
    },
    "tags": []
   },
   "source": [
    "# Loading data and extracting features\n",
    "Here We will extract the columns or features who has missing values less than 800 and we will find out that intially we had 81 columns and after this operation we would left with 76 columns, 5 columns has missing values less than 800."
   ]
  },
  {
   "cell_type": "code",
   "execution_count": 3,
   "metadata": {
    "execution": {
     "iopub.execute_input": "2020-10-05T08:38:03.995531Z",
     "iopub.status.busy": "2020-10-05T08:38:03.994832Z",
     "iopub.status.idle": "2020-10-05T08:38:04.157005Z",
     "shell.execute_reply": "2020-10-05T08:38:04.156228Z"
    },
    "papermill": {
     "duration": 0.181228,
     "end_time": "2020-10-05T08:38:04.157159",
     "exception": false,
     "start_time": "2020-10-05T08:38:03.975931",
     "status": "completed"
    },
    "tags": []
   },
   "outputs": [
    {
     "name": "stdout",
     "output_type": "stream",
     "text": [
      "<class 'pandas.core.frame.DataFrame'>\n",
      "RangeIndex: 1460 entries, 0 to 1459\n",
      "Data columns (total 81 columns):\n",
      " #   Column         Non-Null Count  Dtype  \n",
      "---  ------         --------------  -----  \n",
      " 0   Id             1460 non-null   int64  \n",
      " 1   MSSubClass     1460 non-null   int64  \n",
      " 2   MSZoning       1460 non-null   object \n",
      " 3   LotFrontage    1201 non-null   float64\n",
      " 4   LotArea        1460 non-null   int64  \n",
      " 5   Street         1460 non-null   object \n",
      " 6   Alley          91 non-null     object \n",
      " 7   LotShape       1460 non-null   object \n",
      " 8   LandContour    1460 non-null   object \n",
      " 9   Utilities      1460 non-null   object \n",
      " 10  LotConfig      1460 non-null   object \n",
      " 11  LandSlope      1460 non-null   object \n",
      " 12  Neighborhood   1460 non-null   object \n",
      " 13  Condition1     1460 non-null   object \n",
      " 14  Condition2     1460 non-null   object \n",
      " 15  BldgType       1460 non-null   object \n",
      " 16  HouseStyle     1460 non-null   object \n",
      " 17  OverallQual    1460 non-null   int64  \n",
      " 18  OverallCond    1460 non-null   int64  \n",
      " 19  YearBuilt      1460 non-null   int64  \n",
      " 20  YearRemodAdd   1460 non-null   int64  \n",
      " 21  RoofStyle      1460 non-null   object \n",
      " 22  RoofMatl       1460 non-null   object \n",
      " 23  Exterior1st    1460 non-null   object \n",
      " 24  Exterior2nd    1460 non-null   object \n",
      " 25  MasVnrType     1452 non-null   object \n",
      " 26  MasVnrArea     1452 non-null   float64\n",
      " 27  ExterQual      1460 non-null   object \n",
      " 28  ExterCond      1460 non-null   object \n",
      " 29  Foundation     1460 non-null   object \n",
      " 30  BsmtQual       1423 non-null   object \n",
      " 31  BsmtCond       1423 non-null   object \n",
      " 32  BsmtExposure   1422 non-null   object \n",
      " 33  BsmtFinType1   1423 non-null   object \n",
      " 34  BsmtFinSF1     1460 non-null   int64  \n",
      " 35  BsmtFinType2   1422 non-null   object \n",
      " 36  BsmtFinSF2     1460 non-null   int64  \n",
      " 37  BsmtUnfSF      1460 non-null   int64  \n",
      " 38  TotalBsmtSF    1460 non-null   int64  \n",
      " 39  Heating        1460 non-null   object \n",
      " 40  HeatingQC      1460 non-null   object \n",
      " 41  CentralAir     1460 non-null   object \n",
      " 42  Electrical     1459 non-null   object \n",
      " 43  1stFlrSF       1460 non-null   int64  \n",
      " 44  2ndFlrSF       1460 non-null   int64  \n",
      " 45  LowQualFinSF   1460 non-null   int64  \n",
      " 46  GrLivArea      1460 non-null   int64  \n",
      " 47  BsmtFullBath   1460 non-null   int64  \n",
      " 48  BsmtHalfBath   1460 non-null   int64  \n",
      " 49  FullBath       1460 non-null   int64  \n",
      " 50  HalfBath       1460 non-null   int64  \n",
      " 51  BedroomAbvGr   1460 non-null   int64  \n",
      " 52  KitchenAbvGr   1460 non-null   int64  \n",
      " 53  KitchenQual    1460 non-null   object \n",
      " 54  TotRmsAbvGrd   1460 non-null   int64  \n",
      " 55  Functional     1460 non-null   object \n",
      " 56  Fireplaces     1460 non-null   int64  \n",
      " 57  FireplaceQu    770 non-null    object \n",
      " 58  GarageType     1379 non-null   object \n",
      " 59  GarageYrBlt    1379 non-null   float64\n",
      " 60  GarageFinish   1379 non-null   object \n",
      " 61  GarageCars     1460 non-null   int64  \n",
      " 62  GarageArea     1460 non-null   int64  \n",
      " 63  GarageQual     1379 non-null   object \n",
      " 64  GarageCond     1379 non-null   object \n",
      " 65  PavedDrive     1460 non-null   object \n",
      " 66  WoodDeckSF     1460 non-null   int64  \n",
      " 67  OpenPorchSF    1460 non-null   int64  \n",
      " 68  EnclosedPorch  1460 non-null   int64  \n",
      " 69  3SsnPorch      1460 non-null   int64  \n",
      " 70  ScreenPorch    1460 non-null   int64  \n",
      " 71  PoolArea       1460 non-null   int64  \n",
      " 72  PoolQC         7 non-null      object \n",
      " 73  Fence          281 non-null    object \n",
      " 74  MiscFeature    54 non-null     object \n",
      " 75  MiscVal        1460 non-null   int64  \n",
      " 76  MoSold         1460 non-null   int64  \n",
      " 77  YrSold         1460 non-null   int64  \n",
      " 78  SaleType       1460 non-null   object \n",
      " 79  SaleCondition  1460 non-null   object \n",
      " 80  SalePrice      1460 non-null   int64  \n",
      "dtypes: float64(3), int64(35), object(43)\n",
      "memory usage: 924.0+ KB\n",
      "None\n",
      "<class 'pandas.core.frame.DataFrame'>\n",
      "RangeIndex: 1460 entries, 0 to 1459\n",
      "Data columns (total 76 columns):\n",
      " #   Column         Non-Null Count  Dtype  \n",
      "---  ------         --------------  -----  \n",
      " 0   Id             1460 non-null   int64  \n",
      " 1   MSSubClass     1460 non-null   int64  \n",
      " 2   MSZoning       1460 non-null   object \n",
      " 3   LotFrontage    1201 non-null   float64\n",
      " 4   LotArea        1460 non-null   int64  \n",
      " 5   Street         1460 non-null   object \n",
      " 6   LotShape       1460 non-null   object \n",
      " 7   LandContour    1460 non-null   object \n",
      " 8   Utilities      1460 non-null   object \n",
      " 9   LotConfig      1460 non-null   object \n",
      " 10  LandSlope      1460 non-null   object \n",
      " 11  Neighborhood   1460 non-null   object \n",
      " 12  Condition1     1460 non-null   object \n",
      " 13  Condition2     1460 non-null   object \n",
      " 14  BldgType       1460 non-null   object \n",
      " 15  HouseStyle     1460 non-null   object \n",
      " 16  OverallQual    1460 non-null   int64  \n",
      " 17  OverallCond    1460 non-null   int64  \n",
      " 18  YearBuilt      1460 non-null   int64  \n",
      " 19  YearRemodAdd   1460 non-null   int64  \n",
      " 20  RoofStyle      1460 non-null   object \n",
      " 21  RoofMatl       1460 non-null   object \n",
      " 22  Exterior1st    1460 non-null   object \n",
      " 23  Exterior2nd    1460 non-null   object \n",
      " 24  MasVnrType     1452 non-null   object \n",
      " 25  MasVnrArea     1452 non-null   float64\n",
      " 26  ExterQual      1460 non-null   object \n",
      " 27  ExterCond      1460 non-null   object \n",
      " 28  Foundation     1460 non-null   object \n",
      " 29  BsmtQual       1423 non-null   object \n",
      " 30  BsmtCond       1423 non-null   object \n",
      " 31  BsmtExposure   1422 non-null   object \n",
      " 32  BsmtFinType1   1423 non-null   object \n",
      " 33  BsmtFinSF1     1460 non-null   int64  \n",
      " 34  BsmtFinType2   1422 non-null   object \n",
      " 35  BsmtFinSF2     1460 non-null   int64  \n",
      " 36  BsmtUnfSF      1460 non-null   int64  \n",
      " 37  TotalBsmtSF    1460 non-null   int64  \n",
      " 38  Heating        1460 non-null   object \n",
      " 39  HeatingQC      1460 non-null   object \n",
      " 40  CentralAir     1460 non-null   object \n",
      " 41  Electrical     1459 non-null   object \n",
      " 42  1stFlrSF       1460 non-null   int64  \n",
      " 43  2ndFlrSF       1460 non-null   int64  \n",
      " 44  LowQualFinSF   1460 non-null   int64  \n",
      " 45  GrLivArea      1460 non-null   int64  \n",
      " 46  BsmtFullBath   1460 non-null   int64  \n",
      " 47  BsmtHalfBath   1460 non-null   int64  \n",
      " 48  FullBath       1460 non-null   int64  \n",
      " 49  HalfBath       1460 non-null   int64  \n",
      " 50  BedroomAbvGr   1460 non-null   int64  \n",
      " 51  KitchenAbvGr   1460 non-null   int64  \n",
      " 52  KitchenQual    1460 non-null   object \n",
      " 53  TotRmsAbvGrd   1460 non-null   int64  \n",
      " 54  Functional     1460 non-null   object \n",
      " 55  Fireplaces     1460 non-null   int64  \n",
      " 56  FireplaceQu    770 non-null    object \n",
      " 57  GarageType     1379 non-null   object \n",
      " 58  GarageYrBlt    1379 non-null   float64\n",
      " 59  GarageFinish   1379 non-null   object \n",
      " 60  GarageCars     1460 non-null   int64  \n",
      " 61  GarageArea     1460 non-null   int64  \n",
      " 62  GarageQual     1379 non-null   object \n",
      " 63  GarageCond     1379 non-null   object \n",
      " 64  PavedDrive     1460 non-null   object \n",
      " 65  WoodDeckSF     1460 non-null   int64  \n",
      " 66  OpenPorchSF    1460 non-null   int64  \n",
      " 67  EnclosedPorch  1460 non-null   int64  \n",
      " 68  3SsnPorch      1460 non-null   int64  \n",
      " 69  ScreenPorch    1460 non-null   int64  \n",
      " 70  PoolArea       1460 non-null   int64  \n",
      " 71  MiscVal        1460 non-null   int64  \n",
      " 72  MoSold         1460 non-null   int64  \n",
      " 73  YrSold         1460 non-null   int64  \n",
      " 74  SaleType       1460 non-null   object \n",
      " 75  SaleCondition  1460 non-null   object \n",
      "dtypes: float64(3), int64(34), object(39)\n",
      "memory usage: 867.0+ KB\n"
     ]
    },
    {
     "name": "stderr",
     "output_type": "stream",
     "text": [
      "/opt/conda/lib/python3.7/site-packages/pandas/core/frame.py:4169: SettingWithCopyWarning: \n",
      "A value is trying to be set on a copy of a slice from a DataFrame\n",
      "\n",
      "See the caveats in the documentation: https://pandas.pydata.org/pandas-docs/stable/user_guide/indexing.html#returning-a-view-versus-a-copy\n",
      "  errors=errors,\n"
     ]
    }
   ],
   "source": [
    "train_data=pd.read_csv('/kaggle/input/house-prices-advanced-regression-techniques/train.csv')\n",
    "test_data=pd.read_csv('/kaggle/input/house-prices-advanced-regression-techniques/test.csv')\n",
    "print(train_data.info())\n",
    "features=[cols for cols in train_data.columns if(train_data[cols].isnull().sum()<800)]\n",
    "#we have choose 800 because fireplacequ has values 770 and we don't want to lose that information \n",
    "\n",
    "X=train_data[features]\n",
    "y=X.SalePrice\n",
    "X.drop(columns={'SalePrice'},inplace=True)\n",
    "X_test=test_data[X.columns]\n",
    "X.info()"
   ]
  },
  {
   "cell_type": "markdown",
   "metadata": {
    "papermill": {
     "duration": 0.016909,
     "end_time": "2020-10-05T08:38:04.192618",
     "exception": false,
     "start_time": "2020-10-05T08:38:04.175709",
     "status": "completed"
    },
    "tags": []
   },
   "source": [
    "## Feature Engineering\n",
    " We have 76 columns and now we will preprocess all of these,handling categorical and numerical data and fill the missing values to make it ready for Machine learning models.\n",
    " - Categorical data and missing values\n",
    " - numerical data and missing values"
   ]
  },
  {
   "cell_type": "code",
   "execution_count": 4,
   "metadata": {
    "execution": {
     "iopub.execute_input": "2020-10-05T08:38:04.240820Z",
     "iopub.status.busy": "2020-10-05T08:38:04.234678Z",
     "iopub.status.idle": "2020-10-05T08:38:04.243029Z",
     "shell.execute_reply": "2020-10-05T08:38:04.243532Z"
    },
    "papermill": {
     "duration": 0.033971,
     "end_time": "2020-10-05T08:38:04.243670",
     "exception": false,
     "start_time": "2020-10-05T08:38:04.209699",
     "status": "completed"
    },
    "tags": []
   },
   "outputs": [],
   "source": [
    "test_id=X_test.Id\n",
    "X.drop(columns={'Id'},inplace=True)\n",
    "X_test.drop(columns={'Id'},inplace=True)\n",
    "cat_col=[col for col in X.columns if X[col].dtype=='object']\n",
    "num_col=[col for col in X.columns if X[col].dtype!='object']"
   ]
  },
  {
   "cell_type": "code",
   "execution_count": 5,
   "metadata": {
    "execution": {
     "iopub.execute_input": "2020-10-05T08:38:04.281094Z",
     "iopub.status.busy": "2020-10-05T08:38:04.280496Z",
     "iopub.status.idle": "2020-10-05T08:38:04.414606Z",
     "shell.execute_reply": "2020-10-05T08:38:04.415154Z"
    },
    "papermill": {
     "duration": 0.15439,
     "end_time": "2020-10-05T08:38:04.415333",
     "exception": false,
     "start_time": "2020-10-05T08:38:04.260943",
     "status": "completed"
    },
    "tags": []
   },
   "outputs": [],
   "source": [
    "X_c=X.copy()\n",
    "y_c=y.copy()\n",
    "X_test_c=X_test.copy()\n",
    "encoder=LabelEncoder()\n",
    "for col in cat_col:\n",
    "    X_c[col]=X_c[col].astype(str)\n",
    "    X_test_c[col]=X_test_c[col].astype(str)\n",
    "    X_c[col]=encoder.fit_transform(X_c[col])\n",
    "    X_test_c[col]=encoder.fit_transform(X_test_c[col])"
   ]
  },
  {
   "cell_type": "code",
   "execution_count": 6,
   "metadata": {
    "execution": {
     "iopub.execute_input": "2020-10-05T08:38:04.461654Z",
     "iopub.status.busy": "2020-10-05T08:38:04.460970Z",
     "iopub.status.idle": "2020-10-05T08:38:04.608114Z",
     "shell.execute_reply": "2020-10-05T08:38:04.608759Z"
    },
    "papermill": {
     "duration": 0.175446,
     "end_time": "2020-10-05T08:38:04.608932",
     "exception": false,
     "start_time": "2020-10-05T08:38:04.433486",
     "status": "completed"
    },
    "tags": []
   },
   "outputs": [],
   "source": [
    "# Replace the missing value with mode of that column and encoding by Label encoder\n",
    "X_c1=X.copy()\n",
    "y_c1=y.copy()\n",
    "X_test_c1=X_test.copy()\n",
    "missing_catcol=[col for col in X_c1[cat_col].columns if X_c1[col].isnull().any()==True]\n",
    "X_c1[missing_catcol]=X_c1[missing_catcol].fillna(X_c1[missing_catcol].mode().iloc[0])\n",
    "missing_catcol=[col for col in X_test_c1[cat_col].columns if X_test_c1[col].isnull().any()==True]\n",
    "X_test_c1[missing_catcol]=X_test_c1[missing_catcol].fillna(X_test_c1[missing_catcol].mode().iloc[0])\n",
    "for col in cat_col:\n",
    "    X_c1[col]=encoder.fit_transform(X_c1[col])\n",
    "    X_test_c1[col]=encoder.fit_transform(X_test_c1[col])"
   ]
  },
  {
   "cell_type": "code",
   "execution_count": 7,
   "metadata": {
    "execution": {
     "iopub.execute_input": "2020-10-05T08:38:04.648919Z",
     "iopub.status.busy": "2020-10-05T08:38:04.648230Z",
     "iopub.status.idle": "2020-10-05T08:38:04.942422Z",
     "shell.execute_reply": "2020-10-05T08:38:04.943042Z"
    },
    "papermill": {
     "duration": 0.31531,
     "end_time": "2020-10-05T08:38:04.943191",
     "exception": false,
     "start_time": "2020-10-05T08:38:04.627881",
     "status": "completed"
    },
    "tags": []
   },
   "outputs": [],
   "source": [
    "# Replace the missing value with mode of that column and encoding by Count Encoder\n",
    "X_c2=X.copy()\n",
    "y_c2=y.copy()\n",
    "X_test_c2=X_test.copy()\n",
    "missing_catcol=[col for col in X_c2[cat_col].columns if X_c2[col].isnull().any()==True]\n",
    "X_c2[missing_catcol]=X_c2[missing_catcol].fillna(X_c2[missing_catcol].mode().iloc[0])\n",
    "missing_catcol=[col for col in X_test_c1[cat_col].columns if X_test_c1[col].isnull().any()==True]\n",
    "X_test_c1[missing_catcol]=X_test_c1[missing_catcol].fillna(X_test_c1[missing_catcol].mode().iloc[0])\n",
    "encoder2=category_encoders.CountEncoder()\n",
    "X_c2[cat_col]=encoder2.fit_transform(X_c2[cat_col])\n",
    "X_test_c2[cat_col]=encoder2.transform(X_test_c2[cat_col])\n"
   ]
  },
  {
   "cell_type": "code",
   "execution_count": 8,
   "metadata": {
    "execution": {
     "iopub.execute_input": "2020-10-05T08:38:04.982615Z",
     "iopub.status.busy": "2020-10-05T08:38:04.981876Z",
     "iopub.status.idle": "2020-10-05T08:38:05.022680Z",
     "shell.execute_reply": "2020-10-05T08:38:05.022093Z"
    },
    "papermill": {
     "duration": 0.061686,
     "end_time": "2020-10-05T08:38:05.022804",
     "exception": false,
     "start_time": "2020-10-05T08:38:04.961118",
     "status": "completed"
    },
    "tags": []
   },
   "outputs": [],
   "source": [
    "#numerical data\n",
    "imputer=SimpleImputer()\n",
    "X_c[num_col]=pd.DataFrame(imputer.fit_transform(X_c1[num_col]))\n",
    "X_test_c1[num_col]=pd.DataFrame(imputer.transform(X_test_c1[num_col]))"
   ]
  },
  {
   "cell_type": "code",
   "execution_count": 9,
   "metadata": {
    "execution": {
     "iopub.execute_input": "2020-10-05T08:38:05.069297Z",
     "iopub.status.busy": "2020-10-05T08:38:05.068282Z",
     "iopub.status.idle": "2020-10-05T08:38:05.105812Z",
     "shell.execute_reply": "2020-10-05T08:38:05.105214Z"
    },
    "papermill": {
     "duration": 0.065136,
     "end_time": "2020-10-05T08:38:05.105927",
     "exception": false,
     "start_time": "2020-10-05T08:38:05.040791",
     "status": "completed"
    },
    "tags": []
   },
   "outputs": [],
   "source": [
    "#numerical data\n",
    "X_c1[num_col]=pd.DataFrame(imputer.fit_transform(X_c[num_col]))\n",
    "X_test_c[num_col]=pd.DataFrame(imputer.transform(X_test_c[num_col]))"
   ]
  },
  {
   "cell_type": "code",
   "execution_count": 10,
   "metadata": {
    "execution": {
     "iopub.execute_input": "2020-10-05T08:38:05.145485Z",
     "iopub.status.busy": "2020-10-05T08:38:05.144806Z",
     "iopub.status.idle": "2020-10-05T08:38:05.182646Z",
     "shell.execute_reply": "2020-10-05T08:38:05.183172Z"
    },
    "papermill": {
     "duration": 0.05922,
     "end_time": "2020-10-05T08:38:05.183384",
     "exception": false,
     "start_time": "2020-10-05T08:38:05.124164",
     "status": "completed"
    },
    "tags": []
   },
   "outputs": [],
   "source": [
    "#numerical data\n",
    "X_c2[num_col]=pd.DataFrame(imputer.fit_transform(X_c2[num_col]))\n",
    "X_test_c2[num_col]=pd.DataFrame(imputer.transform(X_test_c2[num_col]))"
   ]
  },
  {
   "cell_type": "markdown",
   "metadata": {
    "papermill": {
     "duration": 0.018251,
     "end_time": "2020-10-05T08:38:05.220070",
     "exception": false,
     "start_time": "2020-10-05T08:38:05.201819",
     "status": "completed"
    },
    "tags": []
   },
   "source": [
    "# Model Selection\n",
    "- Random Forest\n",
    "- XGBoost"
   ]
  },
  {
   "cell_type": "code",
   "execution_count": 11,
   "metadata": {
    "execution": {
     "iopub.execute_input": "2020-10-05T08:38:05.260589Z",
     "iopub.status.busy": "2020-10-05T08:38:05.259874Z",
     "iopub.status.idle": "2020-10-05T08:38:07.165930Z",
     "shell.execute_reply": "2020-10-05T08:38:07.165413Z"
    },
    "papermill": {
     "duration": 1.927173,
     "end_time": "2020-10-05T08:38:07.166056",
     "exception": false,
     "start_time": "2020-10-05T08:38:05.238883",
     "status": "completed"
    },
    "tags": []
   },
   "outputs": [
    {
     "name": "stdout",
     "output_type": "stream",
     "text": [
      "15045.138547945206\n",
      "6961.291534246576\n"
     ]
    }
   ],
   "source": [
    "#Random Forest on Label encoder and Simple Imputer\n",
    "X_train,X_valid,y_train,y_valid=train_test_split(X_c,y_c)\n",
    "model=RandomForestRegressor()\n",
    "model.fit(X_train,y_train)\n",
    "#print prediction for both training and validation data to get the idea of overfitting.\n",
    "print(mean_absolute_error(model.predict(X_valid),y_valid))\n",
    "print(mean_absolute_error(model.predict(X_train),y_train))"
   ]
  },
  {
   "cell_type": "code",
   "execution_count": 12,
   "metadata": {
    "execution": {
     "iopub.execute_input": "2020-10-05T08:38:07.211490Z",
     "iopub.status.busy": "2020-10-05T08:38:07.210313Z",
     "iopub.status.idle": "2020-10-05T08:38:07.219527Z",
     "shell.execute_reply": "2020-10-05T08:38:07.218979Z"
    },
    "papermill": {
     "duration": 0.034428,
     "end_time": "2020-10-05T08:38:07.219642",
     "exception": false,
     "start_time": "2020-10-05T08:38:07.185214",
     "status": "completed"
    },
    "tags": []
   },
   "outputs": [],
   "source": [
    "X_train1,X_valid1,y_train1,y_valid1=train_test_split(X_c1,y_c1)\n",
    "X_train2,X_valid2,y_train2,y_valid2=train_test_split(X_c2,y_c2)"
   ]
  },
  {
   "cell_type": "code",
   "execution_count": 13,
   "metadata": {
    "execution": {
     "iopub.execute_input": "2020-10-05T08:38:07.264873Z",
     "iopub.status.busy": "2020-10-05T08:38:07.263871Z",
     "iopub.status.idle": "2020-10-05T08:38:07.266529Z",
     "shell.execute_reply": "2020-10-05T08:38:07.266996Z"
    },
    "papermill": {
     "duration": 0.027618,
     "end_time": "2020-10-05T08:38:07.267135",
     "exception": false,
     "start_time": "2020-10-05T08:38:07.239517",
     "status": "completed"
    },
    "tags": []
   },
   "outputs": [],
   "source": [
    "#We select the optimal value of estimators and learning rate to get ultimate model.\n",
    "\n",
    "n_est=list(range(100,1500,200))\n",
    "rate=list(np.arange(0.01,0.11,0.02))\n",
    "value=list(itertools.product(n_est,rate))"
   ]
  },
  {
   "cell_type": "code",
   "execution_count": 14,
   "metadata": {
    "execution": {
     "iopub.execute_input": "2020-10-05T08:38:07.315546Z",
     "iopub.status.busy": "2020-10-05T08:38:07.314835Z",
     "iopub.status.idle": "2020-10-05T08:38:43.860323Z",
     "shell.execute_reply": "2020-10-05T08:38:43.861020Z"
    },
    "papermill": {
     "duration": 36.575165,
     "end_time": "2020-10-05T08:38:43.861199",
     "exception": false,
     "start_time": "2020-10-05T08:38:07.286034",
     "status": "completed"
    },
    "tags": []
   },
   "outputs": [],
   "source": [
    "absolute={}\n",
    "absolute1={}\n",
    "for i in value:\n",
    "    model=XGBRegressor(n_estimators=i[0],learning_rate=i[1])\n",
    "    model.fit(X_train1, y_train1, \n",
    "             early_stopping_rounds=5, \n",
    "             eval_set=[(X_valid1, y_valid1)],\n",
    "             verbose=False)\n",
    "    absolute[i]=mean_absolute_error(model.predict(X_valid1),y_valid1)\n",
    "    model.fit(X_train2, y_train2, \n",
    "             early_stopping_rounds=5, \n",
    "             eval_set=[(X_valid2, y_valid2)],\n",
    "             verbose=False)\n",
    "    absolute1[i]=mean_absolute_error(model.predict(X_valid2),y_valid2)\n",
    "ult=min(absolute,key=absolute.get)\n",
    "ult1=min(absolute1,key=absolute1.get)"
   ]
  },
  {
   "cell_type": "code",
   "execution_count": 15,
   "metadata": {
    "execution": {
     "iopub.execute_input": "2020-10-05T08:38:43.917027Z",
     "iopub.status.busy": "2020-10-05T08:38:43.916253Z",
     "iopub.status.idle": "2020-10-05T08:38:43.919384Z",
     "shell.execute_reply": "2020-10-05T08:38:43.920164Z"
    },
    "papermill": {
     "duration": 0.034436,
     "end_time": "2020-10-05T08:38:43.920365",
     "exception": false,
     "start_time": "2020-10-05T08:38:43.885929",
     "status": "completed"
    },
    "tags": []
   },
   "outputs": [
    {
     "name": "stdout",
     "output_type": "stream",
     "text": [
      "For X_c1 - (100, 0.08999999999999998) error is 20179.03145333904 \n",
      "For X_c2- (300, 0.08999999999999998) error is 16304.706892123288 \n"
     ]
    }
   ],
   "source": [
    "print(\"For X_c1 - {} error is {} \\nFor X_c2- {} error is {} \".format(ult,absolute[ult],ult1,absolute1[ult1]))"
   ]
  },
  {
   "cell_type": "code",
   "execution_count": 16,
   "metadata": {
    "execution": {
     "iopub.execute_input": "2020-10-05T08:38:43.982392Z",
     "iopub.status.busy": "2020-10-05T08:38:43.981613Z",
     "iopub.status.idle": "2020-10-05T08:38:44.329181Z",
     "shell.execute_reply": "2020-10-05T08:38:44.330111Z"
    },
    "papermill": {
     "duration": 0.382916,
     "end_time": "2020-10-05T08:38:44.330317",
     "exception": false,
     "start_time": "2020-10-05T08:38:43.947401",
     "status": "completed"
    },
    "tags": []
   },
   "outputs": [
    {
     "name": "stdout",
     "output_type": "stream",
     "text": [
      "16304.706892123288\n",
      "3180.85676369863\n"
     ]
    }
   ],
   "source": [
    "ult_model=XGBRegressor(n_estimators=ult1[0],learning_rate=ult[1])\n",
    "ult_model.fit(X_train2, y_train2, \n",
    "             early_stopping_rounds=5, \n",
    "             eval_set=[(X_valid2, y_valid2)],\n",
    "             verbose=False)\n",
    "print(mean_absolute_error(ult_model.predict(X_valid2),y_valid2))\n",
    "print(mean_absolute_error(ult_model.predict(X_train2),y_train2))\n"
   ]
  },
  {
   "cell_type": "code",
   "execution_count": 17,
   "metadata": {
    "execution": {
     "iopub.execute_input": "2020-10-05T08:38:44.394639Z",
     "iopub.status.busy": "2020-10-05T08:38:44.393860Z",
     "iopub.status.idle": "2020-10-05T08:38:44.518154Z",
     "shell.execute_reply": "2020-10-05T08:38:44.519116Z"
    },
    "papermill": {
     "duration": 0.162529,
     "end_time": "2020-10-05T08:38:44.519331",
     "exception": false,
     "start_time": "2020-10-05T08:38:44.356802",
     "status": "completed"
    },
    "tags": []
   },
   "outputs": [
    {
     "name": "stdout",
     "output_type": "stream",
     "text": [
      "20179.03145333904\n",
      "12681.009300085616\n"
     ]
    }
   ],
   "source": [
    "ult_model1=XGBRegressor(n_estimators=ult[0],learning_rate=ult[1])\n",
    "ult_model1.fit(X_train1, y_train1, \n",
    "             early_stopping_rounds=5, \n",
    "             eval_set=[(X_valid1, y_valid1)],\n",
    "             verbose=False)\n",
    "print(mean_absolute_error(ult_model1.predict(X_valid1),y_valid1))\n",
    "print(mean_absolute_error(ult_model1.predict(X_train1),y_train1))"
   ]
  },
  {
   "cell_type": "code",
   "execution_count": 18,
   "metadata": {
    "execution": {
     "iopub.execute_input": "2020-10-05T08:38:44.581772Z",
     "iopub.status.busy": "2020-10-05T08:38:44.580972Z",
     "iopub.status.idle": "2020-10-05T08:38:44.853442Z",
     "shell.execute_reply": "2020-10-05T08:38:44.854127Z"
    },
    "papermill": {
     "duration": 0.307757,
     "end_time": "2020-10-05T08:38:44.854275",
     "exception": false,
     "start_time": "2020-10-05T08:38:44.546518",
     "status": "completed"
    },
    "tags": []
   },
   "outputs": [],
   "source": [
    "\n",
    "predictions=ult_model.predict(X_test_c2)\n",
    "output=pd.DataFrame({'Id':test_id,'SalePrice':predictions})\n",
    "output.to_csv('sample_submission.csv',index=False)"
   ]
  },
  {
   "cell_type": "code",
   "execution_count": null,
   "metadata": {
    "papermill": {
     "duration": 0.020432,
     "end_time": "2020-10-05T08:38:44.895667",
     "exception": false,
     "start_time": "2020-10-05T08:38:44.875235",
     "status": "completed"
    },
    "tags": []
   },
   "outputs": [],
   "source": []
  },
  {
   "cell_type": "code",
   "execution_count": null,
   "metadata": {
    "papermill": {
     "duration": 0.020382,
     "end_time": "2020-10-05T08:38:44.936813",
     "exception": false,
     "start_time": "2020-10-05T08:38:44.916431",
     "status": "completed"
    },
    "tags": []
   },
   "outputs": [],
   "source": []
  }
 ],
 "metadata": {
  "kernelspec": {
   "display_name": "Python 3",
   "language": "python",
   "name": "python3"
  },
  "language_info": {
   "codemirror_mode": {
    "name": "ipython",
    "version": 3
   },
   "file_extension": ".py",
   "mimetype": "text/x-python",
   "name": "python",
   "nbconvert_exporter": "python",
   "pygments_lexer": "ipython3",
   "version": "3.7.6"
  },
  "papermill": {
   "duration": 48.887845,
   "end_time": "2020-10-05T08:38:45.988864",
   "environment_variables": {},
   "exception": null,
   "input_path": "__notebook__.ipynb",
   "output_path": "__notebook__.ipynb",
   "parameters": {},
   "start_time": "2020-10-05T08:37:57.101019",
   "version": "2.1.0"
  }
 },
 "nbformat": 4,
 "nbformat_minor": 4
}
